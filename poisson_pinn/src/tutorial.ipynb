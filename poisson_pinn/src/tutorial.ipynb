{
 "cells": [
  {
   "attachments": {},
   "cell_type": "markdown",
   "metadata": {},
   "source": [
    "# Tutorial 2: resolution of Poisson problem and usage of extra-features"
   ]
  },
  {
   "attachments": {},
   "cell_type": "markdown",
   "metadata": {},
   "source": [
    "### The problem definition"
   ]
  },
  {
   "attachments": {},
   "cell_type": "markdown",
   "id": "d0fa6e6a",
   "metadata": {},
   "source": [
    "After the problem, the feed-forward neural network is defined, through the class `FeedForward`. This neural network takes as input the coordinates (in this case $x$ and $y$) and provides the unkwown field of the Poisson problem. The residual of the equations are evaluated at several sampling points (which the user can manipulate using the method `span_pts`) and the loss minimized by the neural network is the sum of the residuals.\n",
    "\n",
    "In this tutorial, the neural network is composed by two hidden layers of 10 neurons each, and it is trained for 1000 epochs with a learning rate of 0.006. These parameters can be modified as desired.\n",
    "The output of the cell below is the final loss of the training phase of the PINN.\n",
    "We highlight that the generation of the sampling points and the train is here encapsulated within the function `generate_samples_and_train`, but only for saving some lines of code in the next cells; that function is not mandatory in the **PINA** framework. "
   ]
  },
  {
   "attachments": {},
   "cell_type": "markdown",
   "id": "e2b54729",
   "metadata": {},
   "source": [
    "### The problem solution "
   ]
  },
  {
   "attachments": {},
   "cell_type": "markdown",
   "metadata": {},
   "source": [
    "This tutorial presents how to solve with Physics-Informed Neural Networks for a 2D Poisson problem with Dirichlet boundary conditions.\n",
    "\n",
    "The problem is written as:\n",
    "\\begin{equation}\n",
    "\\begin{cases}\n",
    "-\\Delta u = -\\pi^2\\sin{(\\pi x)} \\sin{(\\pi y)} \\text{ in } D, \\\\\n",
    "u = 0 \\text{ on } \\Gamma_1 \\cup \\Gamma_2 \\cup \\Gamma_3 \\cup \\Gamma_4,\n",
    "\\end{cases}\n",
    "\\end{equation}\n",
    "where $D$ is a square domain $[0,1]^2$, and $\\Gamma_i$, with $i=1,...,4$, are the boundaries of the square."
   ]
  },
  {
   "cell_type": "code",
   "execution_count": 1,
   "metadata": {},
   "outputs": [],
   "source": [
    "import numpy as np\n",
    "import torch\n",
    "from torch.nn import Tanh\n",
    "\n",
    "\n",
    "from problem.pinn import PINN\n",
    "from model.feed_forward import FeedForward\n",
    "from problem.plotter import Plotter\n",
    "\n",
    "from model.feed_forward import FeedForward\n",
    "from poisson import Poisson"
   ]
  },
  {
   "cell_type": "code",
   "execution_count": 2,
   "metadata": {
    "scrolled": true
   },
   "outputs": [],
   "source": [
    "device = torch.device('cuda:0' if torch.cuda.is_available() else 'cpu')\n",
    "\n",
    "problem = Poisson()\n",
    "model = FeedForward(\n",
    "    layers=[64, 64, 64, 64],\n",
    "    func=Tanh,\n",
    "    output_variables=problem.output_variables,\n",
    "    input_variables=problem.input_variables\n",
    ")\n",
    "\n",
    "pinn = PINN(\n",
    "    problem,\n",
    "    model,\n",
    "    lr=0.001,\n",
    "    error_norm='mse',\n",
    "    regularizer=1e-8, \n",
    "    device=device,\n",
    "    )\n",
    "\n"
   ]
  },
  {
   "cell_type": "code",
   "execution_count": 3,
   "id": "9520ebde",
   "metadata": {},
   "outputs": [
    {
     "name": "stdout",
     "output_type": "stream",
     "text": [
      "              sum          gamma1nil_di gamma2nil_di gamma3nil_di gamma4nil_di Dlaplace_equ \n",
      "[epoch 00000] 5.154406e-02 4.831988e-03 1.598487e-03 4.416111e-03 6.051908e-04 4.009228e-02 \n",
      "              sum          gamma1nil_di gamma2nil_di gamma3nil_di gamma4nil_di Dlaplace_equ \n",
      "[epoch 00001] 8.037670e-02 1.896605e-02 7.053646e-03 1.751275e-02 8.195342e-03 2.864891e-02 \n",
      "              sum          gamma1nil_di gamma2nil_di gamma3nil_di gamma4nil_di Dlaplace_equ \n",
      "[epoch 00100] 3.779689e-03 1.911512e-04 8.318171e-05 5.041050e-04 2.402940e-04 2.760957e-03 \n",
      "              sum          gamma1nil_di gamma2nil_di gamma3nil_di gamma4nil_di Dlaplace_equ \n",
      "[epoch 00200] 1.749833e-03 5.964595e-05 3.299892e-05 8.324585e-05 5.776111e-05 1.516181e-03 \n",
      "              sum          gamma1nil_di gamma2nil_di gamma3nil_di gamma4nil_di Dlaplace_equ \n",
      "[epoch 00300] 1.496965e-03 3.291279e-05 1.268171e-04 1.936862e-04 2.249272e-04 9.186217e-04 \n",
      "              sum          gamma1nil_di gamma2nil_di gamma3nil_di gamma4nil_di Dlaplace_equ \n",
      "[epoch 00400] 8.026743e-04 3.198269e-05 3.173946e-05 7.292426e-05 4.290069e-05 6.231272e-04 \n",
      "              sum          gamma1nil_di gamma2nil_di gamma3nil_di gamma4nil_di Dlaplace_equ \n",
      "[epoch 00500] 8.853069e-04 3.663020e-05 2.919958e-05 6.720071e-05 3.911753e-05 7.131589e-04 \n",
      "              sum          gamma1nil_di gamma2nil_di gamma3nil_di gamma4nil_di Dlaplace_equ \n",
      "[epoch 00600] 1.117962e-03 3.390379e-05 3.478206e-05 5.255112e-05 5.070461e-05 9.460205e-04 \n",
      "              sum          gamma1nil_di gamma2nil_di gamma3nil_di gamma4nil_di Dlaplace_equ \n",
      "[epoch 00700] 1.497988e-03 5.199501e-05 6.163395e-05 1.049492e-04 3.985627e-05 1.239553e-03 \n",
      "              sum          gamma1nil_di gamma2nil_di gamma3nil_di gamma4nil_di Dlaplace_equ \n",
      "[epoch 00800] 1.369852e-03 4.020454e-05 3.735232e-05 5.837666e-05 5.995614e-05 1.173963e-03 \n",
      "              sum          gamma1nil_di gamma2nil_di gamma3nil_di gamma4nil_di Dlaplace_equ \n",
      "[epoch 00900] 2.433190e-03 9.932255e-05 6.294031e-05 7.716470e-05 6.786620e-05 2.125897e-03 \n",
      "              sum          gamma1nil_di gamma2nil_di gamma3nil_di gamma4nil_di Dlaplace_equ \n",
      "[epoch 01000] 1.590044e-03 3.169734e-05 4.189190e-05 8.107191e-05 9.231033e-05 1.343072e-03 \n",
      "              sum          gamma1nil_di gamma2nil_di gamma3nil_di gamma4nil_di Dlaplace_equ \n",
      "[epoch 01100] 6.079932e-04 2.923103e-05 4.911219e-05 6.231609e-05 8.066984e-05 3.866640e-04 \n",
      "              sum          gamma1nil_di gamma2nil_di gamma3nil_di gamma4nil_di Dlaplace_equ \n",
      "[epoch 01200] 1.406710e-03 9.015028e-05 9.106289e-05 6.921623e-05 5.621969e-05 1.100061e-03 \n",
      "              sum          gamma1nil_di gamma2nil_di gamma3nil_di gamma4nil_di Dlaplace_equ \n",
      "[epoch 01300] 1.174680e-03 5.860810e-05 5.242474e-05 5.780156e-05 4.285693e-05 9.629884e-04 \n",
      "              sum          gamma1nil_di gamma2nil_di gamma3nil_di gamma4nil_di Dlaplace_equ \n",
      "[epoch 01400] 1.647309e-03 5.590606e-05 5.799940e-05 9.420008e-05 3.172424e-05 1.407480e-03 \n",
      "              sum          gamma1nil_di gamma2nil_di gamma3nil_di gamma4nil_di Dlaplace_equ \n",
      "[epoch 01500] 5.591129e-04 3.729949e-05 3.627195e-05 4.754878e-05 7.221516e-05 3.657775e-04 \n",
      "              sum          gamma1nil_di gamma2nil_di gamma3nil_di gamma4nil_di Dlaplace_equ \n",
      "[epoch 01600] 1.570390e-02 5.181976e-04 4.132765e-03 3.453631e-03 3.540250e-03 4.059054e-03 \n",
      "              sum          gamma1nil_di gamma2nil_di gamma3nil_di gamma4nil_di Dlaplace_equ \n",
      "[epoch 01700] 5.251118e-04 2.394161e-05 6.265841e-05 4.174280e-05 6.177301e-05 3.349960e-04 \n",
      "              sum          gamma1nil_di gamma2nil_di gamma3nil_di gamma4nil_di Dlaplace_equ \n",
      "[epoch 01800] 2.700615e-04 3.045566e-05 4.202975e-05 4.668643e-05 4.679506e-05 1.040946e-04 \n",
      "              sum          gamma1nil_di gamma2nil_di gamma3nil_di gamma4nil_di Dlaplace_equ \n",
      "[epoch 01900] 3.503740e-04 2.628357e-05 4.372826e-05 5.715653e-05 4.363402e-05 1.795717e-04 \n",
      "              sum          gamma1nil_di gamma2nil_di gamma3nil_di gamma4nil_di Dlaplace_equ \n",
      "[epoch 02000] 1.323239e-03 7.517140e-05 6.267595e-05 6.220658e-05 4.697754e-05 1.076207e-03 \n",
      "              sum          gamma1nil_di gamma2nil_di gamma3nil_di gamma4nil_di Dlaplace_equ \n",
      "[epoch 02100] 4.015977e-04 5.112045e-05 5.401541e-05 6.136793e-05 4.872916e-05 1.863647e-04 \n",
      "              sum          gamma1nil_di gamma2nil_di gamma3nil_di gamma4nil_di Dlaplace_equ \n",
      "[epoch 02200] 1.291297e-03 4.890838e-05 3.604967e-05 3.786218e-05 4.650917e-05 1.121968e-03 \n",
      "              sum          gamma1nil_di gamma2nil_di gamma3nil_di gamma4nil_di Dlaplace_equ \n",
      "[epoch 02300] 1.051610e-03 3.456074e-05 8.659885e-05 6.331081e-05 5.564696e-05 8.114923e-04 \n",
      "              sum          gamma1nil_di gamma2nil_di gamma3nil_di gamma4nil_di Dlaplace_equ \n",
      "[epoch 02400] 3.592424e-04 3.156735e-05 2.306801e-05 4.339087e-05 3.783667e-05 2.233795e-04 \n",
      "              sum          gamma1nil_di gamma2nil_di gamma3nil_di gamma4nil_di Dlaplace_equ \n",
      "[epoch 02500] 4.676874e-04 4.331449e-05 6.976126e-05 1.105056e-04 5.825594e-05 1.858501e-04 \n",
      "              sum          gamma1nil_di gamma2nil_di gamma3nil_di gamma4nil_di Dlaplace_equ \n",
      "[epoch 02600] 2.409964e-04 2.472578e-05 2.714573e-05 3.577303e-05 2.868422e-05 1.246677e-04 \n",
      "              sum          gamma1nil_di gamma2nil_di gamma3nil_di gamma4nil_di Dlaplace_equ \n",
      "[epoch 02700] 8.727586e-04 9.625295e-05 9.291858e-05 1.211473e-04 3.784443e-05 5.245953e-04 \n",
      "              sum          gamma1nil_di gamma2nil_di gamma3nil_di gamma4nil_di Dlaplace_equ \n",
      "[epoch 02800] 8.069873e-04 1.377251e-04 1.410011e-04 1.609689e-04 8.494435e-05 2.823479e-04 \n",
      "              sum          gamma1nil_di gamma2nil_di gamma3nil_di gamma4nil_di Dlaplace_equ \n",
      "[epoch 02900] 3.685982e-04 5.942314e-05 6.476312e-05 7.106739e-05 3.719528e-05 1.361493e-04 \n",
      "              sum          gamma1nil_di gamma2nil_di gamma3nil_di gamma4nil_di Dlaplace_equ \n",
      "[epoch 03000] 2.676938e-04 2.805061e-05 3.531807e-05 5.039161e-05 3.250259e-05 1.214309e-04 \n",
      "              sum          gamma1nil_di gamma2nil_di gamma3nil_di gamma4nil_di Dlaplace_equ \n",
      "[epoch 03100] 5.407133e-04 3.399969e-05 3.628761e-05 3.511029e-05 3.741013e-05 3.979056e-04 \n",
      "              sum          gamma1nil_di gamma2nil_di gamma3nil_di gamma4nil_di Dlaplace_equ \n",
      "[epoch 03200] 8.306717e-04 3.696185e-05 4.324362e-05 3.359996e-05 3.225299e-05 6.846132e-04 \n",
      "              sum          gamma1nil_di gamma2nil_di gamma3nil_di gamma4nil_di Dlaplace_equ \n",
      "[epoch 03300] 3.959793e-04 3.324326e-05 5.034045e-05 3.490231e-05 4.195021e-05 2.355431e-04 \n",
      "              sum          gamma1nil_di gamma2nil_di gamma3nil_di gamma4nil_di Dlaplace_equ \n",
      "[epoch 03400] 4.395676e-04 2.848324e-05 4.992666e-05 4.159093e-05 5.775284e-05 2.618139e-04 \n",
      "              sum          gamma1nil_di gamma2nil_di gamma3nil_di gamma4nil_di Dlaplace_equ \n",
      "[epoch 03500] 3.307530e-04 3.369803e-05 2.742061e-05 2.977455e-05 3.477951e-05 2.050803e-04 \n",
      "              sum          gamma1nil_di gamma2nil_di gamma3nil_di gamma4nil_di Dlaplace_equ \n",
      "[epoch 03600] 4.404233e-04 2.210820e-05 3.397504e-05 3.364444e-05 4.125990e-05 3.094358e-04 \n",
      "              sum          gamma1nil_di gamma2nil_di gamma3nil_di gamma4nil_di Dlaplace_equ \n",
      "[epoch 03700] 4.130356e-04 4.427144e-05 4.305948e-05 3.948628e-05 3.704050e-05 2.491779e-04 \n",
      "              sum          gamma1nil_di gamma2nil_di gamma3nil_di gamma4nil_di Dlaplace_equ \n",
      "[epoch 03800] 3.849570e-04 6.387893e-05 5.620293e-05 6.333862e-05 4.973452e-05 1.518021e-04 \n",
      "              sum          gamma1nil_di gamma2nil_di gamma3nil_di gamma4nil_di Dlaplace_equ \n",
      "[epoch 03900] 2.535902e-02 1.112835e-02 2.396981e-04 1.575666e-03 3.123987e-03 9.291321e-03 \n",
      "              sum          gamma1nil_di gamma2nil_di gamma3nil_di gamma4nil_di Dlaplace_equ \n",
      "[epoch 04000] 1.161557e-03 6.179295e-05 2.352972e-04 2.347443e-04 1.164715e-04 5.132513e-04 \n",
      "              sum          gamma1nil_di gamma2nil_di gamma3nil_di gamma4nil_di Dlaplace_equ \n",
      "[epoch 04100] 3.591993e-04 3.046288e-05 3.040200e-05 3.206533e-05 3.136981e-05 2.348993e-04 \n",
      "              sum          gamma1nil_di gamma2nil_di gamma3nil_di gamma4nil_di Dlaplace_equ \n",
      "[epoch 04200] 1.729425e-03 1.365508e-04 2.470146e-04 2.747794e-04 3.010083e-04 7.700723e-04 \n",
      "              sum          gamma1nil_di gamma2nil_di gamma3nil_di gamma4nil_di Dlaplace_equ \n",
      "[epoch 04300] 2.728218e-04 2.967409e-05 3.552358e-05 4.546740e-05 3.459363e-05 1.275631e-04 \n",
      "              sum          gamma1nil_di gamma2nil_di gamma3nil_di gamma4nil_di Dlaplace_equ \n",
      "[epoch 04400] 4.575354e-04 4.532322e-05 5.751362e-05 7.407923e-05 4.598028e-05 2.346391e-04 \n",
      "              sum          gamma1nil_di gamma2nil_di gamma3nil_di gamma4nil_di Dlaplace_equ \n",
      "[epoch 04500] 7.652006e-04 9.231050e-05 7.019683e-05 7.537207e-05 4.811459e-05 4.792066e-04 \n",
      "              sum          gamma1nil_di gamma2nil_di gamma3nil_di gamma4nil_di Dlaplace_equ \n",
      "[epoch 04600] 7.501997e-04 3.466062e-05 2.376275e-05 3.528068e-05 6.448992e-05 5.920057e-04 \n",
      "              sum          gamma1nil_di gamma2nil_di gamma3nil_di gamma4nil_di Dlaplace_equ \n",
      "[epoch 04700] 9.573192e-04 1.736904e-04 2.113608e-04 2.223882e-04 1.859729e-04 1.639068e-04 \n",
      "              sum          gamma1nil_di gamma2nil_di gamma3nil_di gamma4nil_di Dlaplace_equ \n",
      "[epoch 04800] 1.755306e-02 8.425219e-04 3.368933e-03 6.648680e-04 9.818567e-04 1.169488e-02 \n",
      "              sum          gamma1nil_di gamma2nil_di gamma3nil_di gamma4nil_di Dlaplace_equ \n",
      "[epoch 04900] 2.595595e-03 1.371099e-04 6.658190e-04 6.756994e-04 4.118945e-04 7.050722e-04 \n",
      "[epoch 05000] 1.787571e-02 5.863755e-03 4.291492e-03 3.651073e-03 1.454230e-03 2.615163e-03 \n"
     ]
    },
    {
     "data": {
      "text/plain": [
       "0.017875714227557182"
      ]
     },
     "execution_count": 3,
     "metadata": {},
     "output_type": "execute_result"
    }
   ],
   "source": [
    "pinn.span_pts(n=20, mode='grid', locations=['gamma1', 'gamma2', 'gamma3', 'gamma4'])\n",
    "pinn.span_pts(n=20, mode='grid', locations=['D'])\n",
    "\n",
    "pinn.train(5000, 100)\n",
    "# pinn.save_state('pina.poisson')"
   ]
  },
  {
   "cell_type": "code",
   "execution_count": 4,
   "metadata": {},
   "outputs": [
    {
     "data": {
      "image/png": "[encoded data removed]",
      "text/plain": [
       "<Figure size 1152x432 with 6 Axes>"
      ]
     },
     "metadata": {
      "needs_background": "light"
     },
     "output_type": "display_data"
    }
   ],
   "source": [
    "plotter = Plotter()\n",
    "plotter.plot(pinn)"
   ]
  },
  {
   "cell_type": "code",
   "execution_count": null,
   "id": "43a48573",
   "metadata": {},
   "outputs": [],
   "source": []
  },
  {
   "cell_type": "code",
   "execution_count": null,
   "id": "ea1a0ecb",
   "metadata": {},
   "outputs": [],
   "source": []
  }
 ],
 "metadata": {
  "interpreter": {
   "hash": "56be7540488f3dc66429ddf54a0fa9de50124d45fcfccfaf04c4c3886d735a3a"
  },
  "kernelspec": {
   "display_name": "Python 3.9.16 64-bit ('dl': conda)",
   "name": "python3"
  },
  "language_info": {
   "codemirror_mode": {
    "name": "ipython",
    "version": 3
   },
   "file_extension": ".py",
   "mimetype": "text/x-python",
   "name": "python",
   "nbconvert_exporter": "python",
   "pygments_lexer": "ipython3",
   "version": "3.8.0"
  }
 },
 "nbformat": 4,
 "nbformat_minor": 5
}
