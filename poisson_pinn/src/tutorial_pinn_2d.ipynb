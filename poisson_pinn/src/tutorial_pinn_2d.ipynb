{
 "cells": [
  {
   "attachments": {},
   "cell_type": "markdown",
   "metadata": {},
   "source": [
    "# Tutorial 2: resolution of Poisson problem and usage of extra-features"
   ]
  },
  {
   "attachments": {},
   "cell_type": "markdown",
   "metadata": {},
   "source": [
    "### The problem definition"
   ]
  },
  {
   "attachments": {},
   "cell_type": "markdown",
   "id": "d0fa6e6a",
   "metadata": {},
   "source": [
    "After the problem, the feed-forward neural network is defined, through the class `FeedForward`. This neural network takes as input the coordinates (in this case $x$ and $y$) and provides the unkwown field of the Poisson problem. The residual of the equations are evaluated at several sampling points (which the user can manipulate using the method `span_pts`) and the loss minimized by the neural network is the sum of the residuals.\n",
    "\n",
    "In this tutorial, the neural network is composed by two hidden layers of 10 neurons each, and it is trained for 1000 epochs with a learning rate of 0.006. These parameters can be modified as desired.\n",
    "The output of the cell below is the final loss of the training phase of the PINN.\n",
    "We highlight that the generation of the sampling points and the train is here encapsulated within the function `generate_samples_and_train`, but only for saving some lines of code in the next cells; that function is not mandatory in the **PINA** framework. "
   ]
  },
  {
   "attachments": {},
   "cell_type": "markdown",
   "id": "e2b54729",
   "metadata": {},
   "source": [
    "### The problem solution "
   ]
  },
  {
   "attachments": {},
   "cell_type": "markdown",
   "metadata": {},
   "source": [
    "This tutorial presents how to solve with Physics-Informed Neural Networks for a 2D Poisson problem with Dirichlet boundary conditions.\n",
    "\n",
    "The problem is written as:\n",
    "\\begin{equation}\n",
    "\\begin{cases}\n",
    "-\\Delta u = -\\pi^2\\sin{(\\pi x)} \\sin{(\\pi y)} \\text{ in } D, \\\\\n",
    "u = 0 \\text{ on } \\Gamma_1 \\cup \\Gamma_2 \\cup \\Gamma_3 \\cup \\Gamma_4,\n",
    "\\end{cases}\n",
    "\\end{equation}\n",
    "where $D$ is a square domain $[0,1]^2$, and $\\Gamma_i$, with $i=1,...,4$, are the boundaries of the square."
   ]
  },
  {
   "cell_type": "code",
   "execution_count": null,
   "metadata": {},
   "outputs": [],
   "source": [
    "import numpy as np\n",
    "import torch\n",
    "from torch.nn import Tanh\n",
    "\n",
    "\n",
    "from problem.pinn import PINN\n",
    "from model.feed_forward import FeedForward\n",
    "from problem.plotter import Plotter\n",
    "\n",
    "from model.feed_forward import FeedForward\n",
    "from poisson import Poisson"
   ]
  },
  {
   "cell_type": "code",
   "execution_count": null,
   "metadata": {
    "scrolled": true
   },
   "outputs": [],
   "source": [
    "device = torch.device('cuda:0' if torch.cuda.is_available() else 'cpu')\n",
    "\n",
    "problem = Poisson()\n",
    "model = FeedForward(\n",
    "    layers=[64, 64, 64, 64],\n",
    "    func=Tanh,\n",
    "    output_variables=problem.output_variables,\n",
    "    input_variables=problem.input_variables\n",
    ")\n",
    "\n",
    "pinn = PINN(\n",
    "    problem,\n",
    "    model,\n",
    "    lr=0.001,\n",
    "    error_norm='mse',\n",
    "    regularizer=1e-8, \n",
    "    device=device,\n",
    "    )\n",
    "\n"
   ]
  },
  {
   "cell_type": "code",
   "execution_count": null,
   "id": "9520ebde",
   "metadata": {},
   "outputs": [],
   "source": [
    "pinn.span_pts(n=20, mode='grid', locations=['gamma1', 'gamma2', 'gamma3', 'gamma4'])\n",
    "pinn.span_pts(n=20, mode='grid', locations=['D'])\n",
    "\n",
    "pinn.train(500, 100)\n",
    "# pinn.save_state('pina.poisson')"
   ]
  },
  {
   "cell_type": "code",
   "execution_count": null,
   "metadata": {},
   "outputs": [],
   "source": [
    "plotter = Plotter()\n",
    "plotter.plot(pinn)"
   ]
  },
  {
   "cell_type": "code",
   "execution_count": null,
   "id": "43a48573",
   "metadata": {},
   "outputs": [],
   "source": []
  },
  {
   "cell_type": "code",
   "execution_count": null,
   "id": "ea1a0ecb",
   "metadata": {},
   "outputs": [],
   "source": []
  }
 ],
 "metadata": {
  "interpreter": {
   "hash": "56be7540488f3dc66429ddf54a0fa9de50124d45fcfccfaf04c4c3886d735a3a"
  },
  "kernelspec": {
   "display_name": "Python 3.9.16 64-bit ('dl': conda)",
   "name": "python3"
  },
  "language_info": {
   "codemirror_mode": {
    "name": "ipython",
    "version": 3
   },
   "file_extension": ".py",
   "mimetype": "text/x-python",
   "name": "python",
   "nbconvert_exporter": "python",
   "pygments_lexer": "ipython3",
   "version": "3.8.0"
  }
 },
 "nbformat": 4,
 "nbformat_minor": 5
}
